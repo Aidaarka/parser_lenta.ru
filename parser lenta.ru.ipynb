{
 "cells": [
  {
   "cell_type": "code",
   "execution_count": 1,
   "id": "61a11341",
   "metadata": {},
   "outputs": [],
   "source": [
    "# !pip install beautifulsoup4\n",
    "# !pip install requests\n",
    "# !pip install pandas"
   ]
  },
  {
   "cell_type": "code",
   "execution_count": 2,
   "id": "a2e1474f",
   "metadata": {},
   "outputs": [],
   "source": [
    "import requests\n",
    "from bs4 import BeautifulSoup as bs\n",
    "import pandas as pd\n",
    "import re\n",
    "import json\n",
    "import os\n",
    "import datetime"
   ]
  },
  {
   "cell_type": "code",
   "execution_count": 3,
   "id": "dba0c282",
   "metadata": {},
   "outputs": [],
   "source": [
    "def connection(page): # Функция соединения с сайтом\n",
    "    url = \"https://lenta.ru/parts/news/\" + str(page)\n",
    "    request = requests.get(url)\n",
    "    return request"
   ]
  },
  {
   "cell_type": "code",
   "execution_count": 4,
   "id": "379b2574",
   "metadata": {},
   "outputs": [
    {
     "name": "stdout",
     "output_type": "stream",
     "text": [
      "Введите количество страниц: \n",
      "5\n",
      "Введите имя для нового файла: \n",
      "test\n",
      "Файл test.csv успешно сохранён.\n",
      "Размер: 223 Кб\n",
      "Дата создания: 2022-09-16 11:50:19\n"
     ]
    }
   ],
   "source": [
    "result_dict = {'date': [], 'href': [], \n",
    "               'title': [], 'about': []} # dict в который добавятся спарсенные значения \n",
    "\n",
    "print(\"Введите количество страниц: \")\n",
    "limit = int(input()) # Количетсво страниц вебсайта, которые будут спарсены\n",
    "\n",
    "print(\"Введите имя для нового файла: \")\n",
    "file_name = input()+\".csv\"\n",
    "\n",
    "page_num = 1 # Текущая страница\n",
    "while page_num <= limit:\n",
    "\n",
    "    soup = bs(connection(page_num).text, \"html.parser\") # Передача html текста \n",
    "\n",
    "    lenta_main_page = soup.find_all('li', class_='parts-page__item')\n",
    "    lenta_main_title = soup.find_all('h3', class_='card-full-news__title')\n",
    "    lenta_main_date = soup.find_all('time', class_='card-full-news__info-item card-full-news__date')\n",
    "\n",
    "\n",
    "\n",
    "    for date in lenta_main_date: # Добавить дату в result_list словарь\n",
    "        result_dict['date'].append(date.text)\n",
    "\n",
    "    for link in lenta_main_page: # Добавить ссылки в result_list словарь\n",
    "        links = link.a['href']\n",
    "        if 'news/2022' in links:\n",
    "            result_dict['href'].append('https://lenta.ru'+link.a['href'])\n",
    "        elif '/parts/news' in links:\n",
    "            page_num += 1\n",
    "        else:\n",
    "            result_dict['href'].append(link.a['href'])\n",
    "\n",
    "    for head in lenta_main_title: # Добавить заголовки статей в result_list словарь\n",
    "        result_dict['title'].append(head.text)\n",
    "\n",
    "\n",
    "for href in result_dict['href']: # Добавить основной текст статьи в result_list словарь\n",
    "    request = requests.get(href)\n",
    "    txtsoup = bs(request.text, \"html.parser\")\n",
    "    json_data = json.loads(txtsoup.find(type=\"application/ld+json\").string)\n",
    "    result_dict['about'].append(json_data['articleBody'])\n",
    "\n",
    "    \n",
    "df = pd.DataFrame(result_dict) # Сделать датафрейм из словаря result_dict\n",
    "\n",
    "\n",
    "df.to_csv(file_name) # Сохранить файл формата .csv\n",
    "\n",
    "if os.path.exists(file_name):\n",
    "    print(\"Файл {0} успешно сохранён.\".format(file_name))\n",
    "    print(\"Размер:\", os.path.getsize(file_name) // 1024, \"Кб\")\n",
    "    print(\"Дата создания:\",\n",
    "          datetime.datetime.fromtimestamp(\n",
    "              int(os.path.getctime(file_name))))\n",
    "else:\n",
    "    print(\"Объект не удалось сохранить.\")"
   ]
  },
  {
   "cell_type": "code",
   "execution_count": 5,
   "id": "b8800106",
   "metadata": {},
   "outputs": [
    {
     "name": "stdout",
     "output_type": "stream",
     "text": [
      "SHAPE = (100, 5)\n"
     ]
    },
    {
     "data": {
      "text/html": [
       "<div>\n",
       "<style scoped>\n",
       "    .dataframe tbody tr th:only-of-type {\n",
       "        vertical-align: middle;\n",
       "    }\n",
       "\n",
       "    .dataframe tbody tr th {\n",
       "        vertical-align: top;\n",
       "    }\n",
       "\n",
       "    .dataframe thead th {\n",
       "        text-align: right;\n",
       "    }\n",
       "</style>\n",
       "<table border=\"1\" class=\"dataframe\">\n",
       "  <thead>\n",
       "    <tr style=\"text-align: right;\">\n",
       "      <th></th>\n",
       "      <th>Unnamed: 0</th>\n",
       "      <th>date</th>\n",
       "      <th>href</th>\n",
       "      <th>title</th>\n",
       "      <th>about</th>\n",
       "    </tr>\n",
       "  </thead>\n",
       "  <tbody>\n",
       "    <tr>\n",
       "      <th>0</th>\n",
       "      <td>0</td>\n",
       "      <td>11:49</td>\n",
       "      <td>https://lenta.ru/news/2022/09/16/egypt/</td>\n",
       "      <td>Названы лучшие отели Египта для семейного отдыха</td>\n",
       "      <td>Туроператоры перечислили россиянам топ-5 гости...</td>\n",
       "    </tr>\n",
       "    <tr>\n",
       "      <th>1</th>\n",
       "      <td>1</td>\n",
       "      <td>11:45</td>\n",
       "      <td>https://lenta.ru/news/2022/09/16/nurmagomedov/</td>\n",
       "      <td>Нурмагомедов высказался о предстоящем бое Маха...</td>\n",
       "      <td>Бывший чемпион Абсолютного бойцовского чемпион...</td>\n",
       "    </tr>\n",
       "    <tr>\n",
       "      <th>2</th>\n",
       "      <td>2</td>\n",
       "      <td>11:45</td>\n",
       "      <td>https://lenta.ru/news/2022/09/16/himars_kherson/</td>\n",
       "      <td>Замглавы администрации Херсонской области прок...</td>\n",
       "      <td>Замглавы Херсонской области Кирилл Стремоухов ...</td>\n",
       "    </tr>\n",
       "    <tr>\n",
       "      <th>3</th>\n",
       "      <td>3</td>\n",
       "      <td>11:44</td>\n",
       "      <td>https://motor.ru/news/dacia-manifesto-16-09-20...</td>\n",
       "      <td>Dacia показала багги Manifesto со спальными ме...</td>\n",
       "      <td>Концепт Manifesto выступает своего рода «лабо...</td>\n",
       "    </tr>\n",
       "    <tr>\n",
       "      <th>4</th>\n",
       "      <td>4</td>\n",
       "      <td>11:44</td>\n",
       "      <td>https://motor.ru/news/chinese-cars-for-govt-16...</td>\n",
       "      <td>Российских чиновников начнут пересаживать на к...</td>\n",
       "      <td>Правительство Ленинградской области пересядет...</td>\n",
       "    </tr>\n",
       "  </tbody>\n",
       "</table>\n",
       "</div>"
      ],
      "text/plain": [
       "   Unnamed: 0   date                                               href  \\\n",
       "0           0  11:49            https://lenta.ru/news/2022/09/16/egypt/   \n",
       "1           1  11:45     https://lenta.ru/news/2022/09/16/nurmagomedov/   \n",
       "2           2  11:45   https://lenta.ru/news/2022/09/16/himars_kherson/   \n",
       "3           3  11:44  https://motor.ru/news/dacia-manifesto-16-09-20...   \n",
       "4           4  11:44  https://motor.ru/news/chinese-cars-for-govt-16...   \n",
       "\n",
       "                                               title  \\\n",
       "0   Названы лучшие отели Египта для семейного отдыха   \n",
       "1  Нурмагомедов высказался о предстоящем бое Маха...   \n",
       "2  Замглавы администрации Херсонской области прок...   \n",
       "3  Dacia показала багги Manifesto со спальными ме...   \n",
       "4  Российских чиновников начнут пересаживать на к...   \n",
       "\n",
       "                                               about  \n",
       "0  Туроператоры перечислили россиянам топ-5 гости...  \n",
       "1  Бывший чемпион Абсолютного бойцовского чемпион...  \n",
       "2  Замглавы Херсонской области Кирилл Стремоухов ...  \n",
       "3   Концепт Manifesto выступает своего рода «лабо...  \n",
       "4   Правительство Ленинградской области пересядет...  "
      ]
     },
     "execution_count": 5,
     "metadata": {},
     "output_type": "execute_result"
    }
   ],
   "source": [
    "data = pd.read_csv(file_name)\n",
    "print(\"SHAPE = \" + str(data.shape))\n",
    "data.head()"
   ]
  },
  {
   "cell_type": "code",
   "execution_count": null,
   "id": "048e1a07",
   "metadata": {},
   "outputs": [],
   "source": []
  }
 ],
 "metadata": {
  "kernelspec": {
   "display_name": "Python 3 (ipykernel)",
   "language": "python",
   "name": "python3"
  },
  "language_info": {
   "codemirror_mode": {
    "name": "ipython",
    "version": 3
   },
   "file_extension": ".py",
   "mimetype": "text/x-python",
   "name": "python",
   "nbconvert_exporter": "python",
   "pygments_lexer": "ipython3",
   "version": "3.8.10"
  }
 },
 "nbformat": 4,
 "nbformat_minor": 5
}
